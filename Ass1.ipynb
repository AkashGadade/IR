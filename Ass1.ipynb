{
 "cells": [
  {
   "cell_type": "code",
   "execution_count": null,
   "id": "02bd3e16",
   "metadata": {},
   "outputs": [],
   "source": [
    "import nltk"
   ]
  },
  {
   "cell_type": "code",
   "execution_count": null,
   "id": "41eaedf4",
   "metadata": {},
   "outputs": [],
   "source": [
    "import inflect"
   ]
  },
  {
   "cell_type": "code",
   "execution_count": null,
   "id": "5116e841",
   "metadata": {},
   "outputs": [],
   "source": [
    "import string"
   ]
  },
  {
   "cell_type": "code",
   "execution_count": null,
   "id": "ead887c1",
   "metadata": {},
   "outputs": [],
   "source": [
    "text = \"Hello Every one !!! , my name is akash : ;, i am 21 year old . Your career is a journey filled with opportunities for growth and self-discovery. It's a path where you will encounter challenges that test your abilities and moments of success that validate your hard work. With dedication and a clear vision of your goals, you can shape your career into a fulfilling and rewarding endeavor. Embrace the learning experiences, adapt to changes, and continuously strive for improvement. Your career is not just a job; it's a reflection of your aspirations, passions, and the impact you want to make on the world. As you progress, remember that your journey is unique, and success is defined by your own standards. So, pursue your dreams, keep an open mind, and remain resilient in the face of adversity, and your career will become a remarkable part of your life's story.\""
   ]
  },
  {
   "cell_type": "code",
   "execution_count": null,
   "id": "3df83b1d",
   "metadata": {},
   "outputs": [],
   "source": [
    "# convert to lower case\n",
    "\n",
    "lower_case_text = str.lower(text)\n",
    "lower_case_text"
   ]
  },
  {
   "cell_type": "code",
   "execution_count": null,
   "id": "ddbe67c0",
   "metadata": {},
   "outputs": [],
   "source": [
    "# tokenization \n",
    "\n",
    "token = nltk.word_tokenize(lower_case_text)\n",
    "\n",
    "token"
   ]
  },
  {
   "cell_type": "code",
   "execution_count": null,
   "id": "39794584",
   "metadata": {},
   "outputs": [],
   "source": [
    "# stop word removel\n",
    "from nltk.corpus import stopwords\n",
    "stopw = stopwords.words(\"english\")\n",
    "stopw"
   ]
  },
  {
   "cell_type": "code",
   "execution_count": null,
   "id": "2d55d122",
   "metadata": {},
   "outputs": [],
   "source": [
    "removed_stopw_text = []\n",
    "\n",
    "for i in token:\n",
    "    if i not in stopw:\n",
    "        removed_stopw_text.append(i)"
   ]
  },
  {
   "cell_type": "code",
   "execution_count": null,
   "id": "2671a457",
   "metadata": {},
   "outputs": [],
   "source": [
    "removed_stopw_text"
   ]
  },
  {
   "cell_type": "markdown",
   "id": "53c686de",
   "metadata": {},
   "source": [
    "### Remove Punctuation"
   ]
  },
  {
   "cell_type": "code",
   "execution_count": null,
   "id": "f91baa21",
   "metadata": {},
   "outputs": [],
   "source": [
    "removed_punctuation = [i for i in removed_stopw_text if i not in string.punctuation]\n",
    "removed_punctuation"
   ]
  },
  {
   "cell_type": "markdown",
   "id": "7f535d31",
   "metadata": {},
   "source": [
    "### remove Numbers"
   ]
  },
  {
   "cell_type": "code",
   "execution_count": null,
   "id": "0abd59ce",
   "metadata": {},
   "outputs": [],
   "source": [
    "\n",
    "removed_numbers = [i for i in removed_punctuation if not i.isnumeric()]\n",
    "\n",
    "removed_numbers"
   ]
  },
  {
   "cell_type": "code",
   "execution_count": null,
   "id": "39776298",
   "metadata": {},
   "outputs": [],
   "source": [
    "import re\n",
    "print(text)\n",
    "print(\"\\n\")\n",
    "rm = re.sub(\"[0-9]\",\"\" ,text)\n",
    "print(rm)"
   ]
  },
  {
   "cell_type": "code",
   "execution_count": null,
   "id": "11a94389",
   "metadata": {},
   "outputs": [],
   "source": []
  },
  {
   "cell_type": "markdown",
   "id": "31ffbaca",
   "metadata": {},
   "source": [
    "## Stemming "
   ]
  },
  {
   "cell_type": "code",
   "execution_count": null,
   "id": "0f34a577",
   "metadata": {},
   "outputs": [],
   "source": [
    "from nltk.stem import SnowballStemmer\n",
    "\n",
    "stemmer = SnowballStemmer(\"english\")\n",
    "\n",
    "stemmed_text = [stemmer.stem(i) for i in removed_numbers]\n",
    "\n",
    "stemmed_text"
   ]
  },
  {
   "cell_type": "markdown",
   "id": "ae5c61bf",
   "metadata": {},
   "source": [
    "## Lemmatization"
   ]
  },
  {
   "cell_type": "code",
   "execution_count": null,
   "id": "325cc20b",
   "metadata": {},
   "outputs": [],
   "source": [
    "nltk.download('wordnet')"
   ]
  },
  {
   "cell_type": "code",
   "execution_count": null,
   "id": "7d31d762",
   "metadata": {},
   "outputs": [],
   "source": [
    "nltk.download('omw-1.4')"
   ]
  },
  {
   "cell_type": "code",
   "execution_count": null,
   "id": "84b40a5e",
   "metadata": {},
   "outputs": [],
   "source": [
    "from nltk.stem import WordNetLemmatizer\n",
    "\n",
    "stemmerr = WordNetLemmatizer()\n",
    "\n",
    "lemmatized_text = [stemmerr.lemmatize(i) for i in removed_numbers]\n",
    "\n",
    "lemmatized_text"
   ]
  },
  {
   "cell_type": "markdown",
   "id": "da192d9f",
   "metadata": {},
   "source": [
    "## Number to text"
   ]
  },
  {
   "cell_type": "code",
   "execution_count": null,
   "id": "b46e062a",
   "metadata": {},
   "outputs": [],
   "source": [
    "out = ' '.join(removed_punctuation)\n",
    "out"
   ]
  },
  {
   "cell_type": "code",
   "execution_count": null,
   "id": "9b822cd8",
   "metadata": {},
   "outputs": [],
   "source": [
    "import inflect\n",
    "\n",
    "p = inflect.engine()\n",
    "\n",
    "words = nltk.word_tokenize(out)\n",
    "words\n"
   ]
  },
  {
   "cell_type": "code",
   "execution_count": null,
   "id": "e20712b0",
   "metadata": {},
   "outputs": [],
   "source": [
    "ow = []\n",
    "\n",
    "for i in words:\n",
    "    if i.isnumeric():\n",
    "        ow.append(p.number_to_words(int(i)))\n",
    "    else:\n",
    "        ow.append(i)\n",
    "ow"
   ]
  },
  {
   "cell_type": "markdown",
   "id": "84654770",
   "metadata": {},
   "source": [
    "### Remove White space\n",
    "\n"
   ]
  },
  {
   "cell_type": "code",
   "execution_count": null,
   "id": "baa630e8",
   "metadata": {},
   "outputs": [],
   "source": [
    "ttt = \"hellow    , I am aKASH  , what      is you name\"\n",
    "\n",
    "out = \" \".join(ttt.split())\n",
    "\n",
    "out"
   ]
  },
  {
   "cell_type": "code",
   "execution_count": null,
   "id": "27cb545f",
   "metadata": {},
   "outputs": [],
   "source": []
  },
  {
   "cell_type": "code",
   "execution_count": null,
   "id": "47c938c1",
   "metadata": {},
   "outputs": [],
   "source": []
  },
  {
   "cell_type": "code",
   "execution_count": null,
   "id": "23503565",
   "metadata": {},
   "outputs": [],
   "source": []
  },
  {
   "cell_type": "code",
   "execution_count": null,
   "id": "77bb5e50",
   "metadata": {},
   "outputs": [],
   "source": []
  }
 ],
 "metadata": {
  "kernelspec": {
   "display_name": "Python 3 (ipykernel)",
   "language": "python",
   "name": "python3"
  },
  "language_info": {
   "codemirror_mode": {
    "name": "ipython",
    "version": 3
   },
   "file_extension": ".py",
   "mimetype": "text/x-python",
   "name": "python",
   "nbconvert_exporter": "python",
   "pygments_lexer": "ipython3",
   "version": "3.10.9"
  }
 },
 "nbformat": 4,
 "nbformat_minor": 5
}
