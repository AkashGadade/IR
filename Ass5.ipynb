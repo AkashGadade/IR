{
 "cells": [
  {
   "cell_type": "markdown",
   "id": "fda2d109",
   "metadata": {},
   "source": [
    "# Page Ranking"
   ]
  },
  {
   "cell_type": "code",
   "execution_count": 1,
   "id": "c20e30c4",
   "metadata": {},
   "outputs": [],
   "source": []
  },
  {
   "cell_type": "code",
   "execution_count": 2,
   "id": "b96d2847",
   "metadata": {},
   "outputs": [
    {
     "name": "stdout",
     "output_type": "stream",
     "text": [
      "Node 1: 0.1754\n",
      "Node 2: 0.3246\n",
      "Node 3: 0.3246\n",
      "Node 4: 0.1754\n"
     ]
    }
   ],
   "source": [
    "import numpy as np\n",
    "def calculate_pagerank(adjacency_matrix, damping_factor=0.85, max_iterations=100, tolerance=1e-6):\n",
    "    num_nodes = adjacency_matrix.shape[0]\n",
    "    initial_pagerank = np.ones(num_nodes) / num_nodes\n",
    "    pagerank = initial_pagerank.copy()\n",
    "\n",
    "    for iteration in range(max_iterations):\n",
    "        new_pagerank = np.zeros(num_nodes)\n",
    "        for i in range(num_nodes):\n",
    "            for j in range(num_nodes):\n",
    "                if adjacency_matrix[j, i] == 1:\n",
    "                    outgoing_links = np.sum(adjacency_matrix[j])\n",
    "                    new_pagerank[i] += pagerank[j] / outgoing_links\n",
    "        new_pagerank = (1 - damping_factor) / num_nodes + damping_factor * new_pagerank\n",
    "\n",
    "        if np.linalg.norm(new_pagerank - pagerank) < tolerance:\n",
    "            break\n",
    "\n",
    "        pagerank = new_pagerank\n",
    "\n",
    "    return pagerank\n",
    "\n",
    "# Example usage:\n",
    "# Create a sample adjacency matrix representing a directed graph\n",
    "adjacency_matrix = np.array([\n",
    "    [0, 1, 0, 0],\n",
    "    [1, 0, 1, 0],\n",
    "    [0, 1, 0, 1],\n",
    "    [0, 0, 1, 0]\n",
    "])\n",
    "\n",
    "# Calculate PageRank scores for the graph\n",
    "pagerank_scores = calculate_pagerank(adjacency_matrix)\n",
    "\n",
    "# Print the PageRank scores for each node\n",
    "for i, score in enumerate(pagerank_scores):\n",
    "    print(f\"Node {i + 1}: {score:.4f}\")"
   ]
  },
  {
   "cell_type": "code",
   "execution_count": 8,
   "id": "daf98e05",
   "metadata": {},
   "outputs": [
    {
     "name": "stdout",
     "output_type": "stream",
     "text": [
      "B: 0.3246\n",
      "C: 0.3246\n",
      "A: 0.1754\n",
      "D: 0.1754\n"
     ]
    }
   ],
   "source": [
    "def calculate_page_rank(graph, damping_factor=0.85, max_iterations=100, tolerance=1e-6):\n",
    "    nodes = list(graph.keys())\n",
    "    num_nodes = len(nodes)\n",
    "\n",
    "    # Initialize all page ranks to 1.0\n",
    "    page_rank = {node: 1.0 for node in nodes}\n",
    "    new_page_rank = page_rank.copy()\n",
    "\n",
    "    for _ in range(max_iterations):\n",
    "        total_change = 0\n",
    "        for node in nodes:\n",
    "            new_rank = (1 - damping_factor) / num_nodes\n",
    "\n",
    "            for linked_node in graph[node]:\n",
    "                new_rank += damping_factor * (page_rank[linked_node] / len(graph[linked_node]))\n",
    "\n",
    "            total_change += abs(new_rank - page_rank[node])\n",
    "            new_page_rank[node] = new_rank\n",
    "\n",
    "        page_rank = new_page_rank.copy()\n",
    "\n",
    "        if total_change < tolerance:\n",
    "            break\n",
    "\n",
    "    return page_rank\n",
    "\n",
    "if __name__ == \"__main__\":\n",
    "    # Example usage\n",
    "    web_graph = {\n",
    "        'A': ['B'],\n",
    "        'B': ['A','C'],\n",
    "        'C': ['B','D'],\n",
    "        'D':['C']\n",
    "    }\n",
    "\n",
    "    page_rank = calculate_page_rank(web_graph)\n",
    "\n",
    "    for page, rank in sorted(page_rank.items(), key=lambda x: x[1], reverse=True):\n",
    "        print(f'{page}: {rank:.4f}')\n"
   ]
  },
  {
   "cell_type": "code",
   "execution_count": null,
   "id": "fe11e2b6",
   "metadata": {},
   "outputs": [],
   "source": []
  }
 ],
 "metadata": {
  "kernelspec": {
   "display_name": "Python 3 (ipykernel)",
   "language": "python",
   "name": "python3"
  },
  "language_info": {
   "codemirror_mode": {
    "name": "ipython",
    "version": 3
   },
   "file_extension": ".py",
   "mimetype": "text/x-python",
   "name": "python",
   "nbconvert_exporter": "python",
   "pygments_lexer": "ipython3",
   "version": "3.10.9"
  }
 },
 "nbformat": 4,
 "nbformat_minor": 5
}
