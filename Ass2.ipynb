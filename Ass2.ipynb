{
 "cells": [
  {
   "cell_type": "code",
   "execution_count": null,
   "id": "902335b6",
   "metadata": {},
   "outputs": [],
   "source": [
    "import nltk\n",
    "import inflect\n",
    "import string\n"
   ]
  },
  {
   "cell_type": "code",
   "execution_count": null,
   "id": "d6f21afd",
   "metadata": {},
   "outputs": [],
   "source": [
    "# define documents\n",
    "\n",
    "doc1 = \" An inverted index is a fundamental data structure in information retrieval. It allows for efficient and fast retrieval of documents containing specific terms or keywords. In an inverted index, each term is associated with a list of document IDs where that term appears. This greatly speeds up search operations, making it an essential component of search engines and text retrieval systems.\"\n",
    "doc2 = \"  In this tutorial, we'll explore how to build an inverted index in Python. We'll start by preprocessing a collection of documents, tokenizing them, and creating a dictionary that maps terms to the document IDs where they occur. Once we've built the inverted index, we can use it to quickly retrieve documents containing specific words. The inverted index is a key data structure for implementing full-text search and is widely used in web search engines.\"\n",
    "\n",
    "print(doc1)\n",
    "print(\"\\n\")\n",
    "print(doc2)"
   ]
  },
  {
   "cell_type": "code",
   "execution_count": null,
   "id": "f1f8bd53",
   "metadata": {},
   "outputs": [],
   "source": [
    "# preprocessing\n",
    "\n",
    "doc1 = doc1.lower()\n",
    "doc2 = doc2.lower()\n",
    "\n",
    "print(doc1)\n",
    "print(\"\\n\")\n",
    "print(doc2)"
   ]
  },
  {
   "cell_type": "code",
   "execution_count": null,
   "id": "ddc8b60b",
   "metadata": {},
   "outputs": [],
   "source": [
    "# remove punctuation and stop words\n",
    "token1 = nltk.word_tokenize(doc1)\n",
    "token2 = nltk.word_tokenize(doc2)"
   ]
  },
  {
   "cell_type": "code",
   "execution_count": null,
   "id": "12652405",
   "metadata": {},
   "outputs": [],
   "source": [
    "# combineing the token in one unique lst\n",
    "\n",
    "terms = list(set(token1 + token2))\n",
    "terms.sort()\n",
    "\n",
    "terms = [i for i in terms if i not in string.punctuation]\n",
    "terms\n"
   ]
  },
  {
   "cell_type": "code",
   "execution_count": null,
   "id": "55114b58",
   "metadata": {},
   "outputs": [],
   "source": [
    "# remove stopwords\n",
    "\n",
    "from nltk.corpus import stopwords\n",
    "\n",
    "stp = stopwords.words(\"english\")\n",
    "\n",
    "terms = [i for i in terms if i not in stp]"
   ]
  },
  {
   "cell_type": "markdown",
   "id": "8678f005",
   "metadata": {},
   "source": [
    "# Buiding inverted index"
   ]
  },
  {
   "cell_type": "code",
   "execution_count": null,
   "id": "a3c644a3",
   "metadata": {},
   "outputs": [],
   "source": [
    "inverted_index = {}\n",
    "\n",
    "for term in terms:\n",
    "    document = []\n",
    "    if term in token1:\n",
    "        document.append(\"Doc1\")\n",
    "    if term in token2:\n",
    "        document.append(\"Doc2\")\n",
    "    inverted_index[term] = document\n",
    "    \n",
    "for term ,document in inverted_index.items():\n",
    "    print(term,\"---->\",\" , \".join(document))\n",
    "    "
   ]
  },
  {
   "cell_type": "code",
   "execution_count": null,
   "id": "bf333cb3",
   "metadata": {},
   "outputs": [],
   "source": []
  },
  {
   "cell_type": "code",
   "execution_count": null,
   "id": "820a727e",
   "metadata": {},
   "outputs": [],
   "source": []
  }
 ],
 "metadata": {
  "kernelspec": {
   "display_name": "Python 3 (ipykernel)",
   "language": "python",
   "name": "python3"
  },
  "language_info": {
   "codemirror_mode": {
    "name": "ipython",
    "version": 3
   },
   "file_extension": ".py",
   "mimetype": "text/x-python",
   "name": "python",
   "nbconvert_exporter": "python",
   "pygments_lexer": "ipython3",
   "version": "3.10.9"
  }
 },
 "nbformat": 4,
 "nbformat_minor": 5
}
